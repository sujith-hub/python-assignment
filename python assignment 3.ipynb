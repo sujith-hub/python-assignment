{
 "cells": [
  {
   "cell_type": "code",
   "execution_count": 3,
   "metadata": {},
   "outputs": [
    {
     "name": "stdout",
     "output_type": "stream",
     "text": [
      "Enter first side of triangle : 10.5\n",
      "Enter second side of triangle : 8.5\n",
      "Enter third side of triangle : 12.5\n",
      "The area of triangle is :  44.139825767100625\n"
     ]
    }
   ],
   "source": [
    "#Question 1\n",
    "a=float(input(\"Enter first side of triangle : \"))\n",
    "b=float(input(\"Enter second side of triangle : \"))\n",
    "c=float(input(\"Enter third side of triangle : \"))\n",
    "s=(a+b+c)/2\n",
    "area=(s*(s-a)*(s-b)*(s-c))**0.5\n",
    "print(\"The area of triangle is : \", area)"
   ]
  },
  {
   "cell_type": "code",
   "execution_count": 5,
   "metadata": {},
   "outputs": [
    {
     "name": "stdout",
     "output_type": "stream",
     "text": [
      "Enter a string : malayalam\n",
      "Is a polindrome\n"
     ]
    }
   ],
   "source": [
    "#Question 2\n",
    "def polindrome(s):\n",
    "    return s== s[::-1]\n",
    "s=input(\"Enter a string : \")\n",
    "ans=polindrome(s)\n",
    "if ans:\n",
    "    print(\"Is a polindrome\")\n",
    "else :\n",
    "    print(\"Is not a polindrome\")"
   ]
  },
  {
   "cell_type": "code",
   "execution_count": 6,
   "metadata": {},
   "outputs": [
    {
     "name": "stdout",
     "output_type": "stream",
     "text": [
      "Enter year to check weather it is a leap year : 2000\n",
      "The year is a leap year\n"
     ]
    }
   ],
   "source": [
    "#Question 3\n",
    "year = int(input(\"Enter year to check weather it is a leap year : \"))\n",
    "if(year%4==0 and year%100!=0 or year%400==0):\n",
    "    print(\"The year is a leap year\")\n",
    "else :\n",
    "    print(\"The year is not a leap year\")"
   ]
  },
  {
   "cell_type": "code",
   "execution_count": 13,
   "metadata": {},
   "outputs": [
    {
     "name": "stdout",
     "output_type": "stream",
     "text": [
      "enter a string : This program converts spaces into hyphen\n",
      "Modified string : This-program-converts-spaces-into-hyphen\n"
     ]
    }
   ],
   "source": [
    "#Question 4\n",
    "ostring=input(\"enter a string : \")\n",
    "mstring=''\n",
    "for i in range(len(ostring)):\n",
    "    if(ostring[i]==' '):\n",
    "        mstring=mstring+'-'\n",
    "    else:\n",
    "        mstring=mstring+ostring[i]\n",
    "print(\"Modified string :\",mstring)"
   ]
  },
  {
   "cell_type": "code",
   "execution_count": 14,
   "metadata": {},
   "outputs": [
    {
     "name": "stdout",
     "output_type": "stream",
     "text": [
      "Enter a string separated by comma for each word : orange,white,red,cyan,green,magenta,cyan,pink,white\n",
      "cyan,green,magenta,orange,pink,red,white\n"
     ]
    }
   ],
   "source": [
    "#Question 5\n",
    "n=input(\"Enter a string separated by comma for each word : \")\n",
    "words = [word for word in n .split(\",\")]\n",
    "print(\",\".join(sorted(list(set(words)))))"
   ]
  },
  {
   "cell_type": "code",
   "execution_count": 1,
   "metadata": {},
   "outputs": [
    {
     "name": "stdout",
     "output_type": "stream",
     "text": [
      "Enter a string seperating : python,program,is,a,easy,language\n",
      "['a', 'easy', 'is', 'language', 'program', 'python']\n"
     ]
    }
   ],
   "source": [
    "#Question 5\n",
    "s=input(\"Enter a string seperating : \")\n",
    "i=s.split(',')\n",
    "print(sorted(set(i)))"
   ]
  },
  {
   "cell_type": "code",
   "execution_count": 6,
   "metadata": {},
   "outputs": [
    {
     "name": "stdout",
     "output_type": "stream",
     "text": [
      "Enter the salary : 1600000\n",
      "The tax percentage is 30\n",
      "The tax collected from the salary 1600000 is 480000.0\n"
     ]
    }
   ],
   "source": [
    "#Question 6\n",
    "s=int(input(\"Enter the salary : \"))\n",
    "if s<=250000:\n",
    "    tax=0\n",
    "elif s>250000 and s<=500000:\n",
    "    tax=5\n",
    "elif s>500000 and s<=750000:\n",
    "    tax=10\n",
    "elif s>750000 and s<=1000000:\n",
    "    tax=15\n",
    "elif s>1000000 and s<=1250000:\n",
    "    tax=20\n",
    "elif s>1250000 and s<=1500000:\n",
    "    tax=25\n",
    "elif s>1500000:\n",
    "    tax=30\n",
    "totaltax=s*(tax/100)\n",
    "print(f\"The tax percentage is {tax}\")\n",
    "print(f\"The tax collected from the salary {s} is {totaltax}\")"
   ]
  },
  {
   "cell_type": "code",
   "execution_count": 9,
   "metadata": {},
   "outputs": [
    {
     "name": "stdout",
     "output_type": "stream",
     "text": [
      "Enter number of elements need to enter 4\n",
      "Enter elements : 30\n",
      "Enter elements : 66\n",
      "Enter elements : 55\n",
      "Enter elements : 22\n",
      "30665522\n"
     ]
    }
   ],
   "source": [
    "#Question 7\n",
    "li=[]\n",
    "letter=''\n",
    "n=int(input(\"Enter number of elements need to enter \"))\n",
    "for i in range(n):\n",
    "    number=int(input(\"Enter elements : \"))\n",
    "    li.append(str(number))\n",
    "print(''.join(li))\n"
   ]
  },
  {
   "cell_type": "code",
   "execution_count": 1,
   "metadata": {},
   "outputs": [
    {
     "name": "stdout",
     "output_type": "stream",
     "text": [
      "Enter the no of days : 1\n",
      "Enter the no of hours : 2\n",
      "Enter the no of minutes : 3\n",
      "Enter the no of seconds : 4\n",
      "The seconds in the duration time is : 93784\n"
     ]
    }
   ],
   "source": [
    "#Question 8\n",
    "days=int(input(\"Enter the no of days : \"))\n",
    "hours=int(input(\"Enter the no of hours : \"))\n",
    "minutes=int(input(\"Enter the no of minutes : \"))\n",
    "seconds=int(input(\"Enter the no of seconds : \"))\n",
    "totalseconds=days*86400+hours*3600+minutes*60+seconds\n",
    "print(f\"The seconds in the duration time is : {totalseconds}\")\n"
   ]
  },
  {
   "cell_type": "code",
   "execution_count": 3,
   "metadata": {},
   "outputs": [
    {
     "name": "stdout",
     "output_type": "stream",
     "text": [
      "enter a number : 11\n",
      "Enter a number : 13\n",
      "Enter a number : 12\n",
      "The maximum of three numbers (11, 13, 12) is 13\n",
      "The minimum of three numbers (11, 13, 12) is 11\n"
     ]
    }
   ],
   "source": [
    "#Question 9\n",
    "a=int(input(\"enter a number : \"))\n",
    "b=int(input(\"Enter a number : \"))\n",
    "c=int(input(\"Enter a number : \"))\n",
    "print(f\"The maximum of three numbers {a,b,c} is {max(a,b,c)}\")\n",
    "print(f\"The minimum of three numbers {a,b,c} is {min(a,b,c)}\")"
   ]
  },
  {
   "cell_type": "code",
   "execution_count": 5,
   "metadata": {},
   "outputs": [
    {
     "name": "stdout",
     "output_type": "stream",
     "text": [
      "Enter the date in the form of YYYY-MM-DD : 2001-05-30\n",
      "2001-05-31\n"
     ]
    }
   ],
   "source": [
    "#Question 10\n",
    "d=input(\"Enter the date in the form of YYYY-MM-DD : \")\n",
    "li=d.split('-')\n",
    "dd=int(li[2])+1\n",
    "li[2]=str(dd)\n",
    "print(f\"{li[0]+'-'+li[1]+'-'+li[2]}\")"
   ]
  },
  {
   "cell_type": "code",
   "execution_count": 13,
   "metadata": {},
   "outputs": [
    {
     "name": "stdout",
     "output_type": "stream",
     "text": [
      "The product of list [45, 3, 2, 89, 72, 1, 10, 7] is 121111200\n"
     ]
    }
   ],
   "source": [
    "#Question 11\n",
    "li=[45,3,2,89,72,1,10,7]\n",
    "pdt=1\n",
    "for i in li:\n",
    "    pdt*=i\n",
    "print(f'The product of list {li} is {pdt}')"
   ]
  },
  {
   "cell_type": "code",
   "execution_count": 14,
   "metadata": {},
   "outputs": [
    {
     "name": "stdout",
     "output_type": "stream",
     "text": [
      "[11, 14, 42, 123, 90]\n"
     ]
    }
   ],
   "source": [
    "#Question 12\n",
    "list1=[5,6,8,34,89,1]\n",
    "list2=[]\n",
    "j=0\n",
    "for i in list1:\n",
    "    j+=1\n",
    "    if j<len(list1):\n",
    "        list2.append(i+list1[j])\n",
    "print(list2)"
   ]
  },
  {
   "cell_type": "code",
   "execution_count": 15,
   "metadata": {},
   "outputs": [
    {
     "name": "stdout",
     "output_type": "stream",
     "text": [
      "[5, 30, 240, 720, 6480, 6480]\n"
     ]
    }
   ],
   "source": [
    "#Question 13\n",
    "number_tuple=(5,6,8,3,9,1)\n",
    "product=1\n",
    "list=[]\n",
    "for i in number_tuple:\n",
    "    product*=i\n",
    "    list.append(product)\n",
    "print(list)"
   ]
  },
  {
   "cell_type": "code",
   "execution_count": 16,
   "metadata": {},
   "outputs": [
    {
     "name": "stdout",
     "output_type": "stream",
     "text": [
      "Enter a number : 5463895\n",
      "[5, 4, 6, 3, 8, 9, 5]\n"
     ]
    }
   ],
   "source": [
    "#Question 14\n",
    "n=int(input(\"Enter a number : \"))\n",
    "list=[]\n",
    "for i in str(n):\n",
    "    list.append(int(i))\n",
    "print(list)"
   ]
  },
  {
   "cell_type": "code",
   "execution_count": 1,
   "metadata": {},
   "outputs": [
    {
     "name": "stdout",
     "output_type": "stream",
     "text": [
      "Enter a string : accarracecar\n",
      "racecar\n"
     ]
    }
   ],
   "source": [
    "#Question 15\n",
    "s=input(\"Enter a string : \")\n",
    "list1=[]\n",
    "list2=[]\n",
    "idx=0\n",
    "for i in range(0,len(s)-1):\n",
    "    for j in range(i+1,len(s)+1):\n",
    "        if j-i>1:\n",
    "            c=s[i:j]\n",
    "            if (c==c[::-1]):\n",
    "                list1.append(s[i:j])\n",
    "                list2.append(len(s[i:j]))\n",
    "maximum=max(list2)\n",
    "for i in list2:\n",
    "    if i==maximum:\n",
    "        print(list1[idx])\n",
    "    else:\n",
    "        idx=idx+1"
   ]
  },
  {
   "cell_type": "code",
   "execution_count": 8,
   "metadata": {},
   "outputs": [
    {
     "name": "stdout",
     "output_type": "stream",
     "text": [
      "Enter a binary number of 10 digits : 1010110010\n",
      "Enter a binary number of 5 digits : 10110\n",
      "1\n"
     ]
    }
   ],
   "source": [
    "#Question 16\n",
    "a=input(\"Enter a binary number of 10 digits : \")\n",
    "b=input(\"Enter a binary number of 5 digits : \")\n",
    "def check(a,b):\n",
    "    #print(a)\n",
    "    #print(b)\n",
    "    for i in range(0,len(a)):\n",
    "        for j in range(i+1,len(a)+1):\n",
    "            c=a[i:j]\n",
    "            #print(c)\n",
    "            #print(b)\n",
    "            if c==b:\n",
    "                return 1\n",
    "ans=check(a,b)\n",
    "if ans==1:\n",
    "    print(\"1\")\n",
    "else:\n",
    "    print(\"0\")"
   ]
  },
  {
   "cell_type": "code",
   "execution_count": 1,
   "metadata": {},
   "outputs": [
    {
     "name": "stdout",
     "output_type": "stream",
     "text": [
      "Enter number of test cases : 2\n",
      "Enter capacity of A vessel : 5\n",
      "Enter capacity of B vessel : 2\n",
      "Enter required litres of water : 3\n",
      "2\n",
      "Enter capacity of A vessel : 2\n",
      "Enter capacity of B vessel : 3\n",
      "Enter required litres of water : 4\n",
      "-1\n"
     ]
    }
   ],
   "source": [
    "#Question 17\n",
    "def check(a,b,c):\n",
    "    i=0\n",
    "    jug1=0\n",
    "    jug2=0\n",
    "    while jug1!=c and jug2!=c:\n",
    "        if jug2==0:\n",
    "            jug2=b\n",
    "            i+=1\n",
    "        if jug1==a:\n",
    "            jug1=0\n",
    "            i+=1\n",
    "        if jug2<a-jug1:\n",
    "            temp=jug2\n",
    "        else:\n",
    "            temp=a-jug1\n",
    "        jug1+=temp\n",
    "        jug2-=temp\n",
    "        i+=1\n",
    "    return i\n",
    "n=int(input(\"Enter number of test cases : \"))\n",
    "for x in range(0,n):\n",
    "    a=int(input(\"Enter capacity of A vessel : \"))\n",
    "    b=int(input(\"Enter capacity of B vessel : \"))\n",
    "    c=int(input(\"Enter required litres of water : \"))\n",
    "    if a<c and b<c:\n",
    "        result=-1\n",
    "    else:\n",
    "        if check(a,b,c)<check(b,a,c):\n",
    "            result=check(a,b,c)\n",
    "        else:\n",
    "            result=check(b,a,c)\n",
    "    print(result)"
   ]
  },
  {
   "cell_type": "code",
   "execution_count": null,
   "metadata": {},
   "outputs": [],
   "source": []
  }
 ],
 "metadata": {
  "kernelspec": {
   "display_name": "Python 3",
   "language": "python",
   "name": "python3"
  },
  "language_info": {
   "codemirror_mode": {
    "name": "ipython",
    "version": 3
   },
   "file_extension": ".py",
   "mimetype": "text/x-python",
   "name": "python",
   "nbconvert_exporter": "python",
   "pygments_lexer": "ipython3",
   "version": "3.8.3"
  }
 },
 "nbformat": 4,
 "nbformat_minor": 4
}
