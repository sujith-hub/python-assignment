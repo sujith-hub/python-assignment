{
 "cells": [
  {
   "cell_type": "code",
   "execution_count": 1,
   "metadata": {},
   "outputs": [
    {
     "name": "stdout",
     "output_type": "stream",
     "text": [
      "0.30000000000000004\n",
      "1.82\n",
      "True\n",
      "False\n",
      "Predict Output .....\n"
     ]
    }
   ],
   "source": [
    "#Question 1\n",
    "print(0.1+0.2)\n",
    "print(\"1.8\"+\"2\")\n",
    "print(87>78)\n",
    "print((0.1+0.2)==0.3)\n",
    "print(\"Predict \" \"Output\" ,\".....\")"
   ]
  },
  {
   "cell_type": "code",
   "execution_count": 1,
   "metadata": {},
   "outputs": [
    {
     "name": "stdout",
     "output_type": "stream",
     "text": [
      "banana\n",
      "C:\\naresh\\raju\\abhi\n"
     ]
    }
   ],
   "source": [
    "#Question 3\n",
    "print(\"ba\"+\"na\"*2)\n",
    "print(r\"C:\\naresh\\raju\\abhi\")\n"
   ]
  },
  {
   "cell_type": "code",
   "execution_count": 1,
   "metadata": {},
   "outputs": [
    {
     "name": "stdout",
     "output_type": "stream",
     "text": [
      "g anytoW\n",
      "sscc\n"
     ]
    }
   ],
   "source": [
    "#Question 4\n",
    "p='Welcome to python traing program'\n",
    "print(p[28:-33:-4])\n",
    "q='A series of characters designated as one object known as a string'\n",
    "print(q[2:19:5])\n"
   ]
  },
  {
   "cell_type": "code",
   "execution_count": 2,
   "metadata": {},
   "outputs": [
    {
     "name": "stdout",
     "output_type": "stream",
     "text": [
      "Prints multiple messages\n",
      "\n",
      "Concatenate  two strings\n",
      "\n"
     ]
    },
    {
     "ename": "TypeError",
     "evalue": "unsupported operand type(s) for +: 'int' and 'str'",
     "output_type": "error",
     "traceback": [
      "\u001b[1;31m---------------------------------------------------------------------------\u001b[0m",
      "\u001b[1;31mTypeError\u001b[0m                                 Traceback (most recent call last)",
      "\u001b[1;32m<ipython-input-2-e0d7edf60415>\u001b[0m in \u001b[0;36m<module>\u001b[1;34m\u001b[0m\n\u001b[0;32m      2\u001b[0m \u001b[0mprint\u001b[0m\u001b[1;33m(\u001b[0m\u001b[1;34m\"Prints\"\u001b[0m\u001b[1;33m,\u001b[0m\u001b[1;34m\"multiple\"\u001b[0m\u001b[1;33m,\u001b[0m\u001b[1;34m\"messages\\n\"\u001b[0m\u001b[1;33m)\u001b[0m\u001b[1;33m\u001b[0m\u001b[1;33m\u001b[0m\u001b[0m\n\u001b[0;32m      3\u001b[0m \u001b[0mprint\u001b[0m\u001b[1;33m(\u001b[0m\u001b[1;34m\"Concatenate \"\u001b[0m\u001b[1;33m+\u001b[0m\u001b[1;34m\" two strings\\n\"\u001b[0m\u001b[1;33m)\u001b[0m\u001b[1;33m\u001b[0m\u001b[1;33m\u001b[0m\u001b[0m\n\u001b[1;32m----> 4\u001b[1;33m \u001b[0mprint\u001b[0m\u001b[1;33m(\u001b[0m\u001b[1;36m5\u001b[0m\u001b[1;33m+\u001b[0m\u001b[1;36m6\u001b[0m\u001b[1;33m+\u001b[0m\u001b[1;34m\"add two numbers\\n\"\u001b[0m\u001b[1;33m)\u001b[0m\u001b[1;33m\u001b[0m\u001b[1;33m\u001b[0m\u001b[0m\n\u001b[0m",
      "\u001b[1;31mTypeError\u001b[0m: unsupported operand type(s) for +: 'int' and 'str'"
     ]
    }
   ],
   "source": [
    "#Question 2\n",
    "print(\"Prints\",\"multiple\",\"messages\\n\")\n",
    "print(\"Concatenate \"+\" two strings\\n\")\n",
    "print(5+6+\"add two numbers\\n\")\n"
   ]
  },
  {
   "cell_type": "code",
   "execution_count": 25,
   "metadata": {},
   "outputs": [
    {
     "name": "stdout",
     "output_type": "stream",
     "text": [
      "taawkcbe  tgestrcoeeA\n",
      "-----------\n",
      "ot emoc\n"
     ]
    }
   ],
   "source": [
    "#question 5\n",
    "\n",
    "print('A series of characters designated as one dbject known as a string'[::-1][4::3])\n",
    "print(\"-----------\")\n",
    "print('welcome to python traing program'[3:10][::-1])\n",
    "\n",
    "#first it will reverse the string\n",
    "#next it will print by starting from the index position 4 and seek as 3 and gives the result as taawkcbe tgestrcoeea\n",
    "#second it will print as ----------\n",
    "#third will start slicing from the index position 3 and stop at index position 10\n",
    "#next it will reverse the string after slicing and gives result as ot emoc\n",
    "\n"
   ]
  },
  {
   "cell_type": "code",
   "execution_count": 15,
   "metadata": {},
   "outputs": [
    {
     "name": "stdout",
     "output_type": "stream",
     "text": [
      "True\n",
      "False\n"
     ]
    }
   ],
   "source": [
    "#Question 6\n",
    "#a.\n",
    "str1=True\n",
    "x=5>3\n",
    "print(str1==x)\n",
    "y=5>8\n",
    "print(str1==y)\n",
    "\n",
    "#the first print statement tells that str1==x as 5 is greater than 3 which is true,str1 is true.\n",
    "#the second print statement tells that str1==y and value of y is 5>8 which is false,str1 is false\n"
   ]
  },
  {
   "cell_type": "code",
   "execution_count": 14,
   "metadata": {},
   "outputs": [
    {
     "name": "stdout",
     "output_type": "stream",
     "text": [
      "True\n"
     ]
    }
   ],
   "source": [
    "#Question 6b.\n",
    "num=7\n",
    "Name=\"Michael Jackson\"\n",
    "sear_num=Name.find('el')\n",
    "print(num>sear_num)\n",
    "\n",
    "#in third line of code the index position of el is at 6,7.so value of el is 6.\n",
    "#in print num value is greater than sear_num so it print as true\n"
   ]
  },
  {
   "cell_type": "code",
   "execution_count": 3,
   "metadata": {},
   "outputs": [
    {
     "name": "stdout",
     "output_type": "stream",
     "text": [
      "WAS I TAC A RO RAC A TI SAW\n"
     ]
    }
   ],
   "source": [
    "#Question 7\n",
    "sentence='was it a car or a cat I saw'\n",
    "p=sentence.upper()[::-1]\n",
    "print(p)"
   ]
  },
  {
   "cell_type": "code",
   "execution_count": 4,
   "metadata": {},
   "outputs": [
    {
     "name": "stdout",
     "output_type": "stream",
     "text": [
      "946\n"
     ]
    }
   ],
   "source": [
    "#Question 8\n",
    "N='1934567'\n",
    "p=N[1::2]\n",
    "print(int(p))"
   ]
  },
  {
   "cell_type": "code",
   "execution_count": 1,
   "metadata": {},
   "outputs": [
    {
     "data": {
      "text/plain": [
       "['EKIL', 'GNIDAERPS', 'ROF', 'KCANK']"
      ]
     },
     "execution_count": 1,
     "metadata": {},
     "output_type": "execute_result"
    }
   ],
   "source": [
    "#Question 9\n",
    "fake_phrase=\"Fake news has a knack for spreading like wildfire\"\n",
    "p=fake_phrase[16:40:].upper()[::-1]\n",
    "p.split()"
   ]
  },
  {
   "cell_type": "code",
   "execution_count": 10,
   "metadata": {},
   "outputs": [
    {
     "name": "stdout",
     "output_type": "stream",
     "text": [
      "['Facebook', 'already', 'uses', 'AI', 'to', 'filter', 'Fake', 'stories', 'from', 'the', 'feeds', 'of', 'users']\n"
     ]
    }
   ],
   "source": [
    "#Question 10 \n",
    "msg1=\"Facebook already uses AI to filter Fake stories from the feeds of users\"\n",
    "print(msg1.split())"
   ]
  },
  {
   "cell_type": "code",
   "execution_count": 4,
   "metadata": {},
   "outputs": [
    {
     "data": {
      "text/plain": [
       "' rs ot'"
      ]
     },
     "execution_count": 4,
     "metadata": {},
     "output_type": "execute_result"
    }
   ],
   "source": [
    "#Question 11\n",
    "msg2=\"Welcome to sr engineering college\"\n",
    "p=msg2.count('o')\n",
    "py=msg2.count('r')\n",
    "msg2[py**p:(p**py+p+py):][::-1]\n",
    "\n",
    "#p counts the occuarance of o in msg2\n",
    "#py counts the occurance of r in msg2\n",
    "#next step the slicing will be taking place with the index value py**p as 8 and they stop at position p**py+p+py==14\n",
    "#gives to sr and the string will be reversed and gives rs ot"
   ]
  },
  {
   "cell_type": "code",
   "execution_count": 19,
   "metadata": {},
   "outputs": [
    {
     "data": {
      "text/plain": [
       "True"
      ]
     },
     "execution_count": 19,
     "metadata": {},
     "output_type": "execute_result"
    }
   ],
   "source": [
    "#Question 12\n",
    "#a.\n",
    "num1,num2 = \"94\",\"30\"\n",
    "data = \"As per census 2011, Gender ratio of India is 943 females per 1000 males\"\n",
    "num1+num2[0] in data\n",
    "\n",
    "#num1 is '94' and num2 returns '3'\n",
    "#num1+num2[0] is '943' is present in data and output comes as true."
   ]
  },
  {
   "cell_type": "code",
   "execution_count": 20,
   "metadata": {},
   "outputs": [
    {
     "name": "stdout",
     "output_type": "stream",
     "text": [
      "124\n",
      "As per census 2011, Gender ratio of India is  None\n"
     ]
    }
   ],
   "source": [
    "#Question 12b.\n",
    "print(data[:45],print(int(num1)+int(num2)))\n",
    "\n",
    "#num1 and num2 convert to int type and added\n",
    "#By slicing it will go to 44th index position and will print -- As per census 2011,Gender ratio of India is None\n",
    "#Because there is no return value for the print(int(num1)+int(num2)) function"
   ]
  },
  {
   "cell_type": "code",
   "execution_count": 1,
   "metadata": {},
   "outputs": [
    {
     "name": "stdout",
     "output_type": "stream",
     "text": [
      "Enter the amount of water in kilograms : 25\n",
      "Enter the initial temperature of water in degree celsius : 25\n",
      "Enter the final temperature of water in degree celsius : 100\n",
      "Energy required to heat the water = 7845000.0 joules\n"
     ]
    }
   ],
   "source": [
    "#Question 13\n",
    "P=float(input('Enter the amount of water in kilograms : '))\n",
    "it=float(input('Enter the initial temperature of water in degree celsius : '))\n",
    "ft=float(input('Enter the final temperature of water in degree celsius : '))\n",
    "Q=P*(ft-it)*4184\n",
    "print(f'Energy required to heat the water = {Q} joules')"
   ]
  },
  {
   "cell_type": "code",
   "execution_count": 3,
   "metadata": {},
   "outputs": [
    {
     "name": "stdout",
     "output_type": "stream",
     "text": [
      "Enter number of x :3\n",
      "the word is zzzoooooo\n"
     ]
    }
   ],
   "source": [
    "#Question 14\n",
    "x=int(input('Enter number of x :'))\n",
    "y=x*2\n",
    "print(f\"the word is {'z'*x+'o'*y}\")"
   ]
  },
  {
   "cell_type": "code",
   "execution_count": 5,
   "metadata": {},
   "outputs": [
    {
     "name": "stdout",
     "output_type": "stream",
     "text": [
      "Enter value of x :6\n",
      "Enter value of y :8\n",
      "1679616\n",
      "34992\n",
      "35006\n"
     ]
    }
   ],
   "source": [
    "#Question 15\n",
    "x=int(input('Enter value of x :'))\n",
    "y=int(input('Enter value of y :'))\n",
    "powe=x**y\n",
    "print(powe)\n",
    "div=int(powe/(x*y))\n",
    "print(div)\n",
    "print(div^(x+y))"
   ]
  },
  {
   "cell_type": "code",
   "execution_count": null,
   "metadata": {},
   "outputs": [],
   "source": []
  }
 ],
 "metadata": {
  "kernelspec": {
   "display_name": "Python 3",
   "language": "python",
   "name": "python3"
  },
  "language_info": {
   "codemirror_mode": {
    "name": "ipython",
    "version": 3
   },
   "file_extension": ".py",
   "mimetype": "text/x-python",
   "name": "python",
   "nbconvert_exporter": "python",
   "pygments_lexer": "ipython3",
   "version": "3.8.3"
  }
 },
 "nbformat": 4,
 "nbformat_minor": 4
}
