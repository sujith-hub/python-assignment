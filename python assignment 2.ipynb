{
 "cells": [
  {
   "cell_type": "code",
   "execution_count": 2,
   "metadata": {},
   "outputs": [
    {
     "name": "stdout",
     "output_type": "stream",
     "text": [
      "Enter the year of an animal : 5\n",
      "ox\n"
     ]
    }
   ],
   "source": [
    "#Question 1\n",
    "year=int(input(\"Enter the year of an animal : \"))\n",
    "if year%12==0:\n",
    "    print(\"monkey\")\n",
    "elif year%12==1:\n",
    "    print(\"rooster\")\n",
    "elif year%12==2:\n",
    "    print(\"dog\")\n",
    "elif year%12==3:\n",
    "    print(\"pig\")\n",
    "elif year%12==4:\n",
    "    print(\"rat\")\n",
    "elif year%12==5:\n",
    "    print(\"ox\")\n",
    "elif year%12==6:\n",
    "    print(\"tiger\")\n",
    "elif year%12==7:\n",
    "    print(\"rabbit\")\n",
    "elif year%12==8:\n",
    "    print(\"dragon\")\n",
    "elif year%12==9:\n",
    "    print(\"snake\")\n",
    "elif year%12==10:\n",
    "    print(\"horse\")\n",
    "else :\n",
    "    print(\"sheep\")"
   ]
  },
  {
   "cell_type": "code",
   "execution_count": 9,
   "metadata": {},
   "outputs": [
    {
     "name": "stdout",
     "output_type": "stream",
     "text": [
      " Distance to be travel : 510\n",
      " weight of the goods : 55\n",
      "Amount to be charged :  3060 /-\n"
     ]
    }
   ],
   "source": [
    "#Question 2\n",
    "km=int(input(\" Distance to be travel : \"))\n",
    "weight=int(input(\" weight of the goods : \"))\n",
    "if km>=500:\n",
    "    if weight>=100:\n",
    "        print(\"Amount to be charged : \",km*5,'/-')\n",
    "    elif weight>=10 and weight<100:\n",
    "        print(\"Amount to be charged : \",km*6,'/-')\n",
    "    else :\n",
    "        print(\"Amount to be charged : \",km*7,'/-')\n",
    "else :\n",
    "    if weight>=100:\n",
    "        print(\"Amount to be charged \",km*8,'/-')\n",
    "    else :\n",
    "        print(\"Amount to be charged \",km*5,'/-')"
   ]
  },
  {
   "cell_type": "code",
   "execution_count": 13,
   "metadata": {},
   "outputs": [
    {
     "name": "stdout",
     "output_type": "stream",
     "text": [
      "Type of seat : Circle\n",
      "Payment mode : Cash\n",
      "Cost of ticket :  675\n"
     ]
    }
   ],
   "source": [
    "#Question 3\n",
    "seat=input(\"Type of seat : \")\n",
    "payment=input(\"Payment mode : \")\n",
    "if seat==\"Stalls\":\n",
    "    s=625\n",
    "elif seat==\"Circle\":\n",
    "    s=750\n",
    "elif seat==\"Upper class\":\n",
    "    ets=850\n",
    "else:\n",
    "    s=1000\n",
    "if payment==\"Cash\":\n",
    "    c=s-(s*10//100)\n",
    "else:\n",
    "    c=s-(s*5//100)\n",
    "print(\"Cost of ticket : \",c)"
   ]
  },
  {
   "cell_type": "code",
   "execution_count": 1,
   "metadata": {},
   "outputs": [
    {
     "name": "stdout",
     "output_type": "stream",
     "text": [
      "Enter mass of water : 40.50\n",
      "Enter final temperature of water : 150\n",
      "Enter initial temperature of water : 100\n",
      "Energy required to heat water :  8472600.0\n"
     ]
    }
   ],
   "source": [
    "#Question 4\n",
    "m=float(input(\"Enter mass of water : \"))\n",
    "ft=float(input(\"Enter final temperature of water : \"))\n",
    "it=float(input(\"Enter initial temperature of water : \"))\n",
    "q=m*(ft-it)*4184\n",
    "print(\"Energy required to heat water : \",q)\n"
   ]
  },
  {
   "cell_type": "code",
   "execution_count": 3,
   "metadata": {},
   "outputs": [
    {
     "name": "stdout",
     "output_type": "stream",
     "text": [
      "Enter month name : may\n",
      "spring\n"
     ]
    }
   ],
   "source": [
    "#Question 5\n",
    "m=input(\"Enter month name : \")\n",
    "if m==\"december\" or m==\"january\" or m==\"february\":\n",
    "    print(\"winter\")\n",
    "elif m==\"march\" or m==\"april\" or m==\"may\":\n",
    "    print(\"spring\")\n",
    "elif m==\"june\" or m==\"july\" or m==\"august\":\n",
    "    print(\"summer\")\n",
    "elif m==\"september\" or m==\"october\" or m==\"november\":\n",
    "    print(\"autumn\")\n",
    "else :\n",
    "    print(\"Invalid month name\")"
   ]
  },
  {
   "cell_type": "code",
   "execution_count": 1,
   "metadata": {},
   "outputs": [
    {
     "name": "stdout",
     "output_type": "stream",
     "text": [
      "Enter height in inches : 40\n",
      "Enter weight in pounds : 70\n",
      "Obese\n"
     ]
    }
   ],
   "source": [
    "#Question 6\n",
    "height=float(input(\"Enter height in inches : \"))\n",
    "weight=float(input(\"Enter weight in pounds : \"))\n",
    "BMI=(weight*0.45359237)/(height*height*0.0254*0.0254)\n",
    "if BMI>=30.0:\n",
    "    print(\"Obese\")\n",
    "elif 18.5<=BMI<=25.0:\n",
    "    print(\"Normal\")\n",
    "elif 25.0<=BMI<=30.0:\n",
    "    print(\"Overweight\")\n",
    "else :\n",
    "    print(\"Underweight\")"
   ]
  },
  {
   "cell_type": "code",
   "execution_count": 2,
   "metadata": {},
   "outputs": [
    {
     "name": "stdout",
     "output_type": "stream",
     "text": [
      "Enter an integer between 100 and 1000 : 125\n"
     ]
    },
    {
     "data": {
      "text/plain": [
       "8"
      ]
     },
     "execution_count": 2,
     "metadata": {},
     "output_type": "execute_result"
    }
   ],
   "source": [
    "#Question 7\n",
    "n=input(\"Enter an integer between 100 and 1000 : \")\n",
    "add=0\n",
    "for i in n:\n",
    "    add=add+int(i)\n",
    "add"
   ]
  },
  {
   "cell_type": "code",
   "execution_count": 9,
   "metadata": {},
   "outputs": [
    {
     "name": "stdout",
     "output_type": "stream",
     "text": [
      "1\n",
      "2\n",
      "3\n",
      "4\n",
      "5\n",
      "6\n",
      "7\n",
      "8\n",
      "9\n",
      "11\n",
      "22\n",
      "33\n",
      "44\n",
      "55\n",
      "66\n",
      "77\n",
      "88\n",
      "99\n",
      "101\n",
      "111\n",
      "121\n",
      "131\n",
      "141\n",
      "151\n",
      "161\n",
      "171\n",
      "181\n",
      "191\n",
      "202\n",
      "212\n",
      "222\n",
      "232\n",
      "242\n",
      "252\n",
      "262\n",
      "272\n",
      "282\n",
      "292\n",
      "303\n",
      "313\n",
      "323\n",
      "333\n",
      "343\n",
      "353\n",
      "363\n",
      "373\n",
      "383\n",
      "393\n",
      "404\n",
      "414\n",
      "424\n",
      "434\n",
      "444\n",
      "454\n",
      "464\n",
      "474\n",
      "484\n",
      "494\n",
      "505\n",
      "515\n",
      "525\n",
      "535\n",
      "545\n",
      "555\n",
      "565\n",
      "575\n",
      "585\n",
      "595\n",
      "606\n",
      "616\n",
      "626\n",
      "636\n",
      "646\n",
      "656\n",
      "666\n",
      "676\n",
      "686\n",
      "696\n",
      "707\n",
      "717\n",
      "727\n",
      "737\n",
      "747\n",
      "757\n",
      "767\n",
      "777\n",
      "787\n",
      "797\n",
      "808\n",
      "818\n",
      "828\n",
      "838\n",
      "848\n",
      "858\n",
      "868\n",
      "878\n",
      "888\n",
      "898\n",
      "909\n",
      "919\n",
      "929\n",
      "939\n",
      "949\n",
      "959\n",
      "969\n",
      "979\n",
      "989\n",
      "999\n"
     ]
    }
   ],
   "source": [
    "#Question 8\n",
    "for i in range(1,1000):\n",
    "    add=0\n",
    "    a=i\n",
    "    while i>0:\n",
    "        b=i%10\n",
    "        i=int(i/10)\n",
    "        add=add*10+b\n",
    "    if a==add:\n",
    "        print(a)"
   ]
  },
  {
   "cell_type": "code",
   "execution_count": 10,
   "metadata": {},
   "outputs": [
    {
     "name": "stdout",
     "output_type": "stream",
     "text": [
      "1\n",
      "2\n",
      "3\n",
      "4\n",
      "5\n",
      "6\n",
      "7\n",
      "8\n",
      "9\n",
      "153\n",
      "370\n",
      "371\n",
      "407\n"
     ]
    }
   ],
   "source": [
    "#Question 9\n",
    "for i in range(1,1000):\n",
    "    add=0\n",
    "    a=i\n",
    "    c=len(str(i))\n",
    "    while i>0:\n",
    "        b=i%10\n",
    "        add=add+b**c\n",
    "        i=int(i/10)\n",
    "    if a==add:\n",
    "        print(a)"
   ]
  },
  {
   "cell_type": "code",
   "execution_count": 11,
   "metadata": {},
   "outputs": [
    {
     "name": "stdout",
     "output_type": "stream",
     "text": [
      "1\n",
      "2\n",
      "fizz\n",
      "4\n",
      "buzz\n",
      "fizz\n",
      "7\n",
      "8\n",
      "fizz\n",
      "buzz\n",
      "11\n",
      "fizz\n",
      "13\n",
      "14\n",
      "fizz buzz\n",
      "16\n",
      "17\n",
      "fizz\n",
      "19\n",
      "buzz\n",
      "fizz\n",
      "22\n",
      "23\n",
      "fizz\n",
      "buzz\n",
      "26\n",
      "fizz\n",
      "28\n",
      "29\n",
      "fizz buzz\n",
      "31\n",
      "32\n",
      "fizz\n",
      "34\n",
      "buzz\n",
      "fizz\n",
      "37\n",
      "38\n",
      "fizz\n",
      "buzz\n",
      "41\n",
      "fizz\n",
      "43\n",
      "44\n",
      "fizz buzz\n",
      "46\n",
      "47\n",
      "fizz\n",
      "49\n",
      "buzz\n",
      "fizz\n",
      "52\n",
      "53\n",
      "fizz\n",
      "buzz\n",
      "56\n",
      "fizz\n",
      "58\n",
      "59\n",
      "fizz buzz\n",
      "61\n",
      "62\n",
      "fizz\n",
      "64\n",
      "buzz\n",
      "fizz\n",
      "67\n",
      "68\n",
      "fizz\n",
      "buzz\n",
      "71\n",
      "fizz\n",
      "73\n",
      "74\n",
      "fizz buzz\n",
      "76\n",
      "77\n",
      "fizz\n",
      "79\n",
      "buzz\n",
      "fizz\n",
      "82\n",
      "83\n",
      "fizz\n",
      "buzz\n",
      "86\n",
      "fizz\n",
      "88\n",
      "89\n",
      "fizz buzz\n",
      "91\n",
      "92\n",
      "fizz\n",
      "94\n",
      "buzz\n",
      "fizz\n",
      "97\n",
      "98\n",
      "fizz\n"
     ]
    }
   ],
   "source": [
    "#Question 10\n",
    "for i in range(1,100):\n",
    "    if i%3==0 and i%5==0:\n",
    "        print(\"fizz buzz\")\n",
    "    elif i%3==0:\n",
    "        print(\"fizz\")\n",
    "    elif i%5==0:\n",
    "        print(\"buzz\")\n",
    "    else :\n",
    "        print(i)"
   ]
  },
  {
   "cell_type": "code",
   "execution_count": 12,
   "metadata": {},
   "outputs": [
    {
     "name": "stdout",
     "output_type": "stream",
     "text": [
      "Enter the height of well : 500\n",
      "Enter the distance in meters to climb up in each step : 20\n",
      "Enter the distance in meters to slips down in each step : 15\n",
      "98\n"
     ]
    }
   ],
   "source": [
    "#Question 11\n",
    "h=int(input(\"Enter the height of well : \"))\n",
    "cu=int(input(\"Enter the distance in meters to climb up in each step : \"))\n",
    "sd=int(input(\"Enter the distance in meters to slips down in each step : \"))\n",
    "n=((h-cu)+(cu-sd))//(cu-sd)\n",
    "print(n+1)"
   ]
  },
  {
   "cell_type": "code",
   "execution_count": null,
   "metadata": {},
   "outputs": [],
   "source": []
  }
 ],
 "metadata": {
  "kernelspec": {
   "display_name": "Python 3",
   "language": "python",
   "name": "python3"
  },
  "language_info": {
   "codemirror_mode": {
    "name": "ipython",
    "version": 3
   },
   "file_extension": ".py",
   "mimetype": "text/x-python",
   "name": "python",
   "nbconvert_exporter": "python",
   "pygments_lexer": "ipython3",
   "version": "3.8.3"
  }
 },
 "nbformat": 4,
 "nbformat_minor": 4
}
